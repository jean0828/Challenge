{
 "cells": [
  {
   "cell_type": "markdown",
   "id": "da2ce685",
   "metadata": {},
   "source": [
    "# Challenge MELI"
   ]
  },
  {
   "cell_type": "markdown",
   "id": "a8078453",
   "metadata": {},
   "source": [
    "## Importe de librerias y funciones necesarias para el challenge"
   ]
  },
  {
   "cell_type": "markdown",
   "id": "7753b975",
   "metadata": {},
   "source": [
    "En general se necesitan las librerias de Drive API (**google** y **googleapiclient**), para hacer la autenticacion oauth; **pandas**, para el manejo y filtrado de datos; **sqlite**, para guardar la BD y **smtplib** para el envio de correos."
   ]
  },
  {
   "cell_type": "code",
   "execution_count": 100,
   "id": "01992946-4444-4b68-8f05-e5aca2eb48e9",
   "metadata": {},
   "outputs": [],
   "source": [
    "import os\n",
    "import os.path\n",
    "import io\n",
    "from urllib.error import HTTPError\n",
    "from google.auth.transport.requests import Request\n",
    "from google.oauth2.credentials import Credentials\n",
    "from google_auth_oauthlib.flow import InstalledAppFlow\n",
    "from googleapiclient.discovery import build\n",
    "from googleapiclient.errors import HttpError\n",
    "from googleapiclient.http import MediaIoBaseDownload\n",
    "import pandas as pd\n",
    "import sqlite3 as db\n",
    "import smtplib, ssl\n",
    "from email.message import EmailMessage\n",
    "from config import usr,pwd"
   ]
  },
  {
   "cell_type": "code",
   "execution_count": 108,
   "id": "60afa614",
   "metadata": {},
   "outputs": [],
   "source": [
    "def send_email(rcpt,nfile):\n",
    "    # Create a secure SSL context\n",
    "    context = ssl.create_default_context()\n",
    "    msg = EmailMessage()\n",
    "    msg['Subject'] = 'Challenge MELI | {}'.format(nfile)\n",
    "    msg['From'] = usr\n",
    "    msg['To'] = rcpt\n",
    "    message = \"\"\"\n",
    "    Cambiando la privacidad para el archivo {} a privado.\n",
    "    \"\"\".format(nfile)\n",
    "    msg.set_content(message)\n",
    "    with smtplib.SMTP_SSL(\"smtp.gmail.com\", 465, context=context) as server:\n",
    "        server.login(usr, pwd)\n",
    "        server.send_message(msg)\n",
    "        \n",
    "def delete_permisssions(row):\n",
    "    service.permissions().delete(fileId=row['id'],permissionId=\"anyoneWithLink\").execute()\n",
    "    send_email(row['emailAddress'],row['nombre'])\n",
    "    return True"
   ]
  },
  {
   "cell_type": "markdown",
   "id": "4f27f872",
   "metadata": {},
   "source": [
    "## Establecer conexiones"
   ]
  },
  {
   "cell_type": "markdown",
   "id": "fd6eda7a",
   "metadata": {},
   "source": [
    "### Creacion y/o conexion a la BD Sqlite"
   ]
  },
  {
   "cell_type": "code",
   "execution_count": 2,
   "id": "56d22726",
   "metadata": {},
   "outputs": [],
   "source": [
    "connection = db.connect('meli.db')"
   ]
  },
  {
   "cell_type": "code",
   "execution_count": 101,
   "id": "c278b675",
   "metadata": {},
   "outputs": [],
   "source": [
    "try:\n",
    "    old_df = pd.read_sql_query(\"SELECT * from filespermissions\", connection)   \n",
    "         \n",
    "except db.OperationalError:\n",
    "    print(\"No such table: filespermissions\")\n",
    "    if(db.OperationalError):\n",
    "        try:\n",
    "            print(\"Creating a new table: \")\n",
    "            cur = connection.cursor()\n",
    "            cur.execute('''\n",
    "                CREATE TABLE filespermissions(\n",
    "                emailAddress text, \n",
    "                id text,\n",
    "                nombre text,\n",
    "                extension text,\n",
    "                owner text,\n",
    "                compartido\tinteger\n",
    "                propietario\tinteger\n",
    "                publico\ttext\n",
    "                modifiedTime text,\n",
    "                Modificado\tinteger\n",
    "            )''')\n",
    "            cur.close()\n",
    " \n",
    "        except db.Error() as e:\n",
    "            print(e, \" occured\")\n",
    "\n",
    " "
   ]
  },
  {
   "cell_type": "markdown",
   "id": "75a0533c",
   "metadata": {},
   "source": [
    "### Obtener autorizacion para acceder a los archivos del Drive de Google"
   ]
  },
  {
   "cell_type": "markdown",
   "id": "17e6cfa4",
   "metadata": {},
   "source": [
    "<img src=\"https://developers.google.com/static/identity/protocols/oauth2/images/flows/authorization-code.png\" \n",
    "        alt=\"Flujo-oauth\" \n",
    "        width=\"800\" \n",
    "        height=\"500\" \n",
    "        style=\"display: block; margin: 0 auto\" />"
   ]
  },
  {
   "cell_type": "code",
   "execution_count": 102,
   "id": "ba045d13-38e9-4034-9c33-ce799262dc56",
   "metadata": {},
   "outputs": [],
   "source": [
    "SCOPES = ['https://www.googleapis.com/auth/drive']"
   ]
  },
  {
   "cell_type": "code",
   "execution_count": 103,
   "id": "d0d3b4f1-c13b-43a7-bf6d-0b15ec614d37",
   "metadata": {},
   "outputs": [],
   "source": [
    "creds = None\n",
    "\n",
    "if os.path.exists('token.json'):\n",
    "    creds = Credentials.from_authorized_user_file('token.json',SCOPES)\n",
    "    \n",
    "if not creds or not creds.valid:\n",
    "    \n",
    "    if creds and creds.expired and creds.refresh_token:\n",
    "        \n",
    "        creds.refresh(Request())\n",
    "        \n",
    "    else:\n",
    "        flow = InstalledAppFlow.from_client_secrets_file('credentials.json', SCOPES)\n",
    "        creds = flow.run_local_server(port=8080)\n",
    "        \n",
    "    with open('token.json', 'w') as token:\n",
    "        token.write(creds.to_json())"
   ]
  },
  {
   "cell_type": "markdown",
   "id": "36bd6107",
   "metadata": {},
   "source": [
    "## Creacion de BD sobre el estado actual de los archivos"
   ]
  },
  {
   "cell_type": "code",
   "execution_count": 104,
   "id": "07ffc760",
   "metadata": {},
   "outputs": [],
   "source": [
    "lists = []\n",
    "try:\n",
    "    \n",
    "    service =  build('drive', 'v3' , credentials = creds)\n",
    "    ##### OPERACION DE LISTADO DE ARCHIVOS #############\n",
    "    #results =  service.files().list(fields = \"*\",spaces='drive').execute()\n",
    "    results =  service.files().list(q=\"trashed = false and 'me' in owners and mimeType != 'application/vnd.google-apps.folder'\",\n",
    "                                          spaces='drive',\n",
    "                                          pageSize=1000,\n",
    "                                          fields='nextPageToken, files(id,name,shared,ownedByMe,fullFileExtension,owners,permissions,modifiedTime)').execute()\n",
    "    items = results.get('files',[])\n",
    "    if not items:\n",
    "        print(\"No hay items\")\n",
    "    for item in items:\n",
    "        try:\n",
    "            #print(item['name'],item['fullFileExtension'],item['owners'][0]['displayName'],item['shared'],item['ownedByMe'])\n",
    "            lists.append([item['owners'][0]['emailAddress'],item['id'],item['name'],item['fullFileExtension'],item['owners'][0]['displayName'],item['shared'],item['ownedByMe'],item['permissions'][0]['id'],item['modifiedTime']])\n",
    "            #print(lists)\n",
    "        except:\n",
    "            pass\n",
    "            #print(item['name'],item['name'].split('.')[-1],item['owners'][0]['displayName'],item['shared'],item['ownedByMe'])\n",
    "    \n",
    "\n",
    "except HttpError as error:\n",
    "    print(f'Ocurrió un error {error}')"
   ]
  },
  {
   "cell_type": "code",
   "execution_count": 105,
   "id": "291e8a28",
   "metadata": {},
   "outputs": [
    {
     "name": "stdout",
     "output_type": "stream",
     "text": [
      "87\n",
      "Ya no hay mas archivos\n",
      "957\n"
     ]
    }
   ],
   "source": [
    "print(len(lists))\n",
    "while True:\n",
    "    if 'nextPageToken' in results:\n",
    "        nextToken = results[\"nextPageToken\"]\n",
    "        results =  service.files().list(q=\"trashed = false and 'me' in owners and mimeType != 'application/vnd.google-apps.folder'\",\n",
    "                                            spaces='drive',\n",
    "                                            pageSize=1000,\n",
    "                                            fields='nextPageToken, files(id,name,shared,ownedByMe,fullFileExtension,owners,permissions,modifiedTime)',\n",
    "                                            pageToken=nextToken).execute()\n",
    "        items = results.get('files',[])\n",
    "        if not items:\n",
    "            print(\"No hay items\")\n",
    "        for item in items:\n",
    "            try:\n",
    "                #print(item['name'])\n",
    "                #print(item['name'],item['fullFileExtension'],item['owners'][0]['displayName'],item['shared'],item['ownedByMe'])\n",
    "                #print([item['owners'][0]['emailAddress'],item['id'],item['name'],item['fullFileExtension'],item['owners'][0]['displayName'],item['shared'],item['ownedByMe'],item['permissions'][0]['id'],item['modifiedTime']])\n",
    "                lists.append([item['owners'][0]['emailAddress'],item['id'],item['name'],item['fullFileExtension'],item['owners'][0]['displayName'],item['shared'],item['ownedByMe'],item['permissions'][0]['id'],item['modifiedTime']])\n",
    "            except:\n",
    "                pass\n",
    "                #print(item['name'],item['name'].split('.')[-1],item['owners'][0]['displayName'],item['shared'],item['ownedByMe'])\n",
    "        \n",
    "    else:\n",
    "        print('Ya no hay mas archivos')\n",
    "        break\n",
    "print(len(lists))"
   ]
  },
  {
   "cell_type": "code",
   "execution_count": 106,
   "id": "0772d833",
   "metadata": {},
   "outputs": [],
   "source": [
    "df = pd.DataFrame(lists, columns=['emailAddress','id','nombre','extension','owner','compartido','propietario','publico','modifiedTime'])\n",
    "df['Modificado'] = False"
   ]
  },
  {
   "cell_type": "code",
   "execution_count": 109,
   "id": "ebbffc5f",
   "metadata": {},
   "outputs": [
    {
     "data": {
      "text/html": [
       "<div>\n",
       "<style scoped>\n",
       "    .dataframe tbody tr th:only-of-type {\n",
       "        vertical-align: middle;\n",
       "    }\n",
       "\n",
       "    .dataframe tbody tr th {\n",
       "        vertical-align: top;\n",
       "    }\n",
       "\n",
       "    .dataframe thead th {\n",
       "        text-align: right;\n",
       "    }\n",
       "</style>\n",
       "<table border=\"1\" class=\"dataframe\">\n",
       "  <thead>\n",
       "    <tr style=\"text-align: right;\">\n",
       "      <th></th>\n",
       "      <th>emailAddress</th>\n",
       "      <th>id</th>\n",
       "      <th>nombre</th>\n",
       "      <th>extension</th>\n",
       "      <th>owner</th>\n",
       "      <th>compartido</th>\n",
       "      <th>propietario</th>\n",
       "      <th>publico</th>\n",
       "      <th>modifiedTime</th>\n",
       "      <th>Modificado</th>\n",
       "    </tr>\n",
       "  </thead>\n",
       "  <tbody>\n",
       "    <tr>\n",
       "      <th>0</th>\n",
       "      <td>yampi16@gmail.com</td>\n",
       "      <td>1uzDYLf5QAPEFbr7oCq6ETnttKGb5sWwK</td>\n",
       "      <td>1517020241702.jfif</td>\n",
       "      <td>jfif</td>\n",
       "      <td>jean pierre</td>\n",
       "      <td>True</td>\n",
       "      <td>True</td>\n",
       "      <td>anyoneWithLink</td>\n",
       "      <td>2022-11-06T18:16:02.101Z</td>\n",
       "      <td>False</td>\n",
       "    </tr>\n",
       "    <tr>\n",
       "      <th>1</th>\n",
       "      <td>yampi16@gmail.com</td>\n",
       "      <td>1nmtIpznBILhm9lvWeEDPIzcnrKrqlFyU</td>\n",
       "      <td>PGPMessage.pdf</td>\n",
       "      <td>pdf</td>\n",
       "      <td>jean pierre</td>\n",
       "      <td>True</td>\n",
       "      <td>True</td>\n",
       "      <td>anyoneWithLink</td>\n",
       "      <td>2022-11-06T17:34:35.796Z</td>\n",
       "      <td>False</td>\n",
       "    </tr>\n",
       "    <tr>\n",
       "      <th>2</th>\n",
       "      <td>yampi16@gmail.com</td>\n",
       "      <td>1z11Krpq7T-iKJ39SoizWHG33BegEdBjQ</td>\n",
       "      <td>Compilado.rar</td>\n",
       "      <td>rar</td>\n",
       "      <td>jean pierre</td>\n",
       "      <td>False</td>\n",
       "      <td>True</td>\n",
       "      <td>03709418903600911746</td>\n",
       "      <td>2021-10-21T02:19:37.000Z</td>\n",
       "      <td>False</td>\n",
       "    </tr>\n",
       "    <tr>\n",
       "      <th>3</th>\n",
       "      <td>yampi16@gmail.com</td>\n",
       "      <td>1qP63HpQBizimaSOwINdzjO_2bJTxcR-o</td>\n",
       "      <td>DeRoze.rar</td>\n",
       "      <td>rar</td>\n",
       "      <td>jean pierre</td>\n",
       "      <td>False</td>\n",
       "      <td>True</td>\n",
       "      <td>03709418903600911746</td>\n",
       "      <td>2021-10-12T02:11:57.000Z</td>\n",
       "      <td>False</td>\n",
       "    </tr>\n",
       "    <tr>\n",
       "      <th>4</th>\n",
       "      <td>yampi16@gmail.com</td>\n",
       "      <td>1OJpO4g7oebdd2s0l-vDhOUFQUtjnBKrY</td>\n",
       "      <td>Presentacion.mp4</td>\n",
       "      <td>mp4</td>\n",
       "      <td>jean pierre</td>\n",
       "      <td>False</td>\n",
       "      <td>True</td>\n",
       "      <td>03709418903600911746</td>\n",
       "      <td>2021-10-12T02:10:22.000Z</td>\n",
       "      <td>False</td>\n",
       "    </tr>\n",
       "  </tbody>\n",
       "</table>\n",
       "</div>"
      ],
      "text/plain": [
       "        emailAddress                                 id              nombre  \\\n",
       "0  yampi16@gmail.com  1uzDYLf5QAPEFbr7oCq6ETnttKGb5sWwK  1517020241702.jfif   \n",
       "1  yampi16@gmail.com  1nmtIpznBILhm9lvWeEDPIzcnrKrqlFyU      PGPMessage.pdf   \n",
       "2  yampi16@gmail.com  1z11Krpq7T-iKJ39SoizWHG33BegEdBjQ       Compilado.rar   \n",
       "3  yampi16@gmail.com  1qP63HpQBizimaSOwINdzjO_2bJTxcR-o          DeRoze.rar   \n",
       "4  yampi16@gmail.com  1OJpO4g7oebdd2s0l-vDhOUFQUtjnBKrY    Presentacion.mp4   \n",
       "\n",
       "  extension        owner  compartido  propietario               publico  \\\n",
       "0      jfif  jean pierre        True         True        anyoneWithLink   \n",
       "1       pdf  jean pierre        True         True        anyoneWithLink   \n",
       "2       rar  jean pierre       False         True  03709418903600911746   \n",
       "3       rar  jean pierre       False         True  03709418903600911746   \n",
       "4       mp4  jean pierre       False         True  03709418903600911746   \n",
       "\n",
       "               modifiedTime  Modificado  \n",
       "0  2022-11-06T18:16:02.101Z       False  \n",
       "1  2022-11-06T17:34:35.796Z       False  \n",
       "2  2021-10-21T02:19:37.000Z       False  \n",
       "3  2021-10-12T02:11:57.000Z       False  \n",
       "4  2021-10-12T02:10:22.000Z       False  "
      ]
     },
     "execution_count": 109,
     "metadata": {},
     "output_type": "execute_result"
    }
   ],
   "source": [
    "df.head()"
   ]
  },
  {
   "cell_type": "code",
   "execution_count": 110,
   "id": "3cad6443",
   "metadata": {},
   "outputs": [
    {
     "data": {
      "text/html": [
       "<div>\n",
       "<style scoped>\n",
       "    .dataframe tbody tr th:only-of-type {\n",
       "        vertical-align: middle;\n",
       "    }\n",
       "\n",
       "    .dataframe tbody tr th {\n",
       "        vertical-align: top;\n",
       "    }\n",
       "\n",
       "    .dataframe thead th {\n",
       "        text-align: right;\n",
       "    }\n",
       "</style>\n",
       "<table border=\"1\" class=\"dataframe\">\n",
       "  <thead>\n",
       "    <tr style=\"text-align: right;\">\n",
       "      <th></th>\n",
       "      <th>emailAddress</th>\n",
       "      <th>id</th>\n",
       "      <th>nombre</th>\n",
       "      <th>extension</th>\n",
       "      <th>owner</th>\n",
       "      <th>compartido</th>\n",
       "      <th>propietario</th>\n",
       "      <th>publico</th>\n",
       "      <th>modifiedTime</th>\n",
       "      <th>Modificado</th>\n",
       "    </tr>\n",
       "  </thead>\n",
       "  <tbody>\n",
       "    <tr>\n",
       "      <th>0</th>\n",
       "      <td>yampi16@gmail.com</td>\n",
       "      <td>1uzDYLf5QAPEFbr7oCq6ETnttKGb5sWwK</td>\n",
       "      <td>1517020241702.jfif</td>\n",
       "      <td>jfif</td>\n",
       "      <td>jean pierre</td>\n",
       "      <td>0</td>\n",
       "      <td>1</td>\n",
       "      <td>03709418903600911746</td>\n",
       "      <td>2022-11-05T14:57:47.850Z</td>\n",
       "      <td>1</td>\n",
       "    </tr>\n",
       "    <tr>\n",
       "      <th>1</th>\n",
       "      <td>yampi16@gmail.com</td>\n",
       "      <td>1z11Krpq7T-iKJ39SoizWHG33BegEdBjQ</td>\n",
       "      <td>Compilado.rar</td>\n",
       "      <td>rar</td>\n",
       "      <td>jean pierre</td>\n",
       "      <td>0</td>\n",
       "      <td>1</td>\n",
       "      <td>03709418903600911746</td>\n",
       "      <td>2021-10-21T02:19:37.000Z</td>\n",
       "      <td>0</td>\n",
       "    </tr>\n",
       "    <tr>\n",
       "      <th>2</th>\n",
       "      <td>yampi16@gmail.com</td>\n",
       "      <td>1qP63HpQBizimaSOwINdzjO_2bJTxcR-o</td>\n",
       "      <td>DeRoze.rar</td>\n",
       "      <td>rar</td>\n",
       "      <td>jean pierre</td>\n",
       "      <td>0</td>\n",
       "      <td>1</td>\n",
       "      <td>03709418903600911746</td>\n",
       "      <td>2021-10-12T02:11:57.000Z</td>\n",
       "      <td>0</td>\n",
       "    </tr>\n",
       "    <tr>\n",
       "      <th>3</th>\n",
       "      <td>yampi16@gmail.com</td>\n",
       "      <td>1OJpO4g7oebdd2s0l-vDhOUFQUtjnBKrY</td>\n",
       "      <td>Presentacion.mp4</td>\n",
       "      <td>mp4</td>\n",
       "      <td>jean pierre</td>\n",
       "      <td>0</td>\n",
       "      <td>1</td>\n",
       "      <td>03709418903600911746</td>\n",
       "      <td>2021-10-12T02:10:22.000Z</td>\n",
       "      <td>0</td>\n",
       "    </tr>\n",
       "    <tr>\n",
       "      <th>4</th>\n",
       "      <td>yampi16@gmail.com</td>\n",
       "      <td>1UYe-AHn2TJuXU821JAFJo9Jln4unw89D</td>\n",
       "      <td>soat.pdf</td>\n",
       "      <td>pdf</td>\n",
       "      <td>jean pierre</td>\n",
       "      <td>0</td>\n",
       "      <td>1</td>\n",
       "      <td>03709418903600911746</td>\n",
       "      <td>2021-09-21T11:30:59.539Z</td>\n",
       "      <td>0</td>\n",
       "    </tr>\n",
       "  </tbody>\n",
       "</table>\n",
       "</div>"
      ],
      "text/plain": [
       "        emailAddress                                 id              nombre  \\\n",
       "0  yampi16@gmail.com  1uzDYLf5QAPEFbr7oCq6ETnttKGb5sWwK  1517020241702.jfif   \n",
       "1  yampi16@gmail.com  1z11Krpq7T-iKJ39SoizWHG33BegEdBjQ       Compilado.rar   \n",
       "2  yampi16@gmail.com  1qP63HpQBizimaSOwINdzjO_2bJTxcR-o          DeRoze.rar   \n",
       "3  yampi16@gmail.com  1OJpO4g7oebdd2s0l-vDhOUFQUtjnBKrY    Presentacion.mp4   \n",
       "4  yampi16@gmail.com  1UYe-AHn2TJuXU821JAFJo9Jln4unw89D            soat.pdf   \n",
       "\n",
       "  extension        owner  compartido  propietario               publico  \\\n",
       "0      jfif  jean pierre           0            1  03709418903600911746   \n",
       "1       rar  jean pierre           0            1  03709418903600911746   \n",
       "2       rar  jean pierre           0            1  03709418903600911746   \n",
       "3       mp4  jean pierre           0            1  03709418903600911746   \n",
       "4       pdf  jean pierre           0            1  03709418903600911746   \n",
       "\n",
       "               modifiedTime  Modificado  \n",
       "0  2022-11-05T14:57:47.850Z           1  \n",
       "1  2021-10-21T02:19:37.000Z           0  \n",
       "2  2021-10-12T02:11:57.000Z           0  \n",
       "3  2021-10-12T02:10:22.000Z           0  \n",
       "4  2021-09-21T11:30:59.539Z           0  "
      ]
     },
     "execution_count": 110,
     "metadata": {},
     "output_type": "execute_result"
    }
   ],
   "source": [
    "old_df.head()"
   ]
  },
  {
   "cell_type": "markdown",
   "id": "4189539a",
   "metadata": {},
   "source": [
    "## Actualizacion de permisos"
   ]
  },
  {
   "cell_type": "markdown",
   "id": "4a043c23",
   "metadata": {},
   "source": [
    "En la siguiente linea se cambian los permisos y se notifica al usuario de ello"
   ]
  },
  {
   "cell_type": "code",
   "execution_count": 112,
   "id": "d13a9ea6",
   "metadata": {},
   "outputs": [],
   "source": [
    "df['Modificado'] = df.apply(lambda x: delete_permisssions(x) if x['publico']=='anyoneWithLink' else x['Modificado'], axis=1)"
   ]
  },
  {
   "cell_type": "markdown",
   "id": "04404fbb",
   "metadata": {},
   "source": [
    "<img src=\"https://i.imgur.com/vxXOTqh.png\" \n",
    "        alt=\"correos\" \n",
    "        width=\"1000\" \n",
    "        height=\"200\" \n",
    "        style=\"display: block; margin: 0 auto\" />\n",
    "\n",
    "<img src=\"https://i.imgur.com/gOvzzxd.png\" \n",
    "        alt=\"contenido\" \n",
    "        width=\"1000\" \n",
    "        height=\"200\" \n",
    "        style=\"display: block; margin: 0 auto\" />"
   ]
  },
  {
   "cell_type": "markdown",
   "id": "0ee6028e",
   "metadata": {},
   "source": [
    "## Actualizacion de la base de datos"
   ]
  },
  {
   "cell_type": "markdown",
   "id": "c59c4085",
   "metadata": {},
   "source": [
    "A continuacion se listan los archivos nuevos que se han encontrado desde la ultima corrida:"
   ]
  },
  {
   "cell_type": "code",
   "execution_count": 117,
   "id": "f572aeb2",
   "metadata": {},
   "outputs": [
    {
     "data": {
      "text/html": [
       "<div>\n",
       "<style scoped>\n",
       "    .dataframe tbody tr th:only-of-type {\n",
       "        vertical-align: middle;\n",
       "    }\n",
       "\n",
       "    .dataframe tbody tr th {\n",
       "        vertical-align: top;\n",
       "    }\n",
       "\n",
       "    .dataframe thead th {\n",
       "        text-align: right;\n",
       "    }\n",
       "</style>\n",
       "<table border=\"1\" class=\"dataframe\">\n",
       "  <thead>\n",
       "    <tr style=\"text-align: right;\">\n",
       "      <th></th>\n",
       "      <th>emailAddress</th>\n",
       "      <th>id</th>\n",
       "      <th>nombre</th>\n",
       "      <th>extension</th>\n",
       "      <th>owner</th>\n",
       "      <th>compartido</th>\n",
       "      <th>propietario</th>\n",
       "      <th>publico</th>\n",
       "      <th>modifiedTime</th>\n",
       "      <th>Modificado</th>\n",
       "    </tr>\n",
       "  </thead>\n",
       "  <tbody>\n",
       "  </tbody>\n",
       "</table>\n",
       "</div>"
      ],
      "text/plain": [
       "Empty DataFrame\n",
       "Columns: [emailAddress, id, nombre, extension, owner, compartido, propietario, publico, modifiedTime, Modificado]\n",
       "Index: []"
      ]
     },
     "execution_count": 117,
     "metadata": {},
     "output_type": "execute_result"
    }
   ],
   "source": [
    "df[df['id'].isin(set(df['id'])-set(old_df['id']))]"
   ]
  },
  {
   "cell_type": "code",
   "execution_count": 113,
   "id": "b971cd00",
   "metadata": {},
   "outputs": [
    {
     "name": "stdout",
     "output_type": "stream",
     "text": [
      "956\n",
      "1\n"
     ]
    }
   ],
   "source": [
    "diff_df = df[df['id'].isin(set(df['id'])-set(old_df['id']))]\n",
    "print('Hay: ',len(diff_df),' archivos nuevos',end=' ')\n",
    "if len(diff_df)>0:\n",
    "    old_df = pd.concat([old_df, df], ignore_index = True)\n",
    "else:\n",
    "    print('no hay archivos nuevos desde la ultima corrida')"
   ]
  },
  {
   "cell_type": "markdown",
   "id": "92d44e53",
   "metadata": {},
   "source": [
    "Se guarda los valores en la BD:"
   ]
  },
  {
   "cell_type": "code",
   "execution_count": 115,
   "id": "541b631b",
   "metadata": {},
   "outputs": [],
   "source": [
    "old_df.update(df)"
   ]
  },
  {
   "cell_type": "code",
   "execution_count": 116,
   "id": "4d651968",
   "metadata": {},
   "outputs": [
    {
     "data": {
      "text/html": [
       "<div>\n",
       "<style scoped>\n",
       "    .dataframe tbody tr th:only-of-type {\n",
       "        vertical-align: middle;\n",
       "    }\n",
       "\n",
       "    .dataframe tbody tr th {\n",
       "        vertical-align: top;\n",
       "    }\n",
       "\n",
       "    .dataframe thead th {\n",
       "        text-align: right;\n",
       "    }\n",
       "</style>\n",
       "<table border=\"1\" class=\"dataframe\">\n",
       "  <thead>\n",
       "    <tr style=\"text-align: right;\">\n",
       "      <th></th>\n",
       "      <th>emailAddress</th>\n",
       "      <th>id</th>\n",
       "      <th>nombre</th>\n",
       "      <th>extension</th>\n",
       "      <th>owner</th>\n",
       "      <th>compartido</th>\n",
       "      <th>propietario</th>\n",
       "      <th>publico</th>\n",
       "      <th>modifiedTime</th>\n",
       "      <th>Modificado</th>\n",
       "    </tr>\n",
       "  </thead>\n",
       "  <tbody>\n",
       "    <tr>\n",
       "      <th>0</th>\n",
       "      <td>yampi16@gmail.com</td>\n",
       "      <td>1uzDYLf5QAPEFbr7oCq6ETnttKGb5sWwK</td>\n",
       "      <td>1517020241702.jfif</td>\n",
       "      <td>jfif</td>\n",
       "      <td>jean pierre</td>\n",
       "      <td>True</td>\n",
       "      <td>True</td>\n",
       "      <td>anyoneWithLink</td>\n",
       "      <td>2022-11-06T18:16:02.101Z</td>\n",
       "      <td>True</td>\n",
       "    </tr>\n",
       "    <tr>\n",
       "      <th>1</th>\n",
       "      <td>yampi16@gmail.com</td>\n",
       "      <td>1nmtIpznBILhm9lvWeEDPIzcnrKrqlFyU</td>\n",
       "      <td>PGPMessage.pdf</td>\n",
       "      <td>pdf</td>\n",
       "      <td>jean pierre</td>\n",
       "      <td>True</td>\n",
       "      <td>True</td>\n",
       "      <td>anyoneWithLink</td>\n",
       "      <td>2022-11-06T17:34:35.796Z</td>\n",
       "      <td>True</td>\n",
       "    </tr>\n",
       "    <tr>\n",
       "      <th>2</th>\n",
       "      <td>yampi16@gmail.com</td>\n",
       "      <td>1z11Krpq7T-iKJ39SoizWHG33BegEdBjQ</td>\n",
       "      <td>Compilado.rar</td>\n",
       "      <td>rar</td>\n",
       "      <td>jean pierre</td>\n",
       "      <td>False</td>\n",
       "      <td>True</td>\n",
       "      <td>03709418903600911746</td>\n",
       "      <td>2021-10-21T02:19:37.000Z</td>\n",
       "      <td>False</td>\n",
       "    </tr>\n",
       "    <tr>\n",
       "      <th>3</th>\n",
       "      <td>yampi16@gmail.com</td>\n",
       "      <td>1qP63HpQBizimaSOwINdzjO_2bJTxcR-o</td>\n",
       "      <td>DeRoze.rar</td>\n",
       "      <td>rar</td>\n",
       "      <td>jean pierre</td>\n",
       "      <td>False</td>\n",
       "      <td>True</td>\n",
       "      <td>03709418903600911746</td>\n",
       "      <td>2021-10-12T02:11:57.000Z</td>\n",
       "      <td>False</td>\n",
       "    </tr>\n",
       "    <tr>\n",
       "      <th>4</th>\n",
       "      <td>yampi16@gmail.com</td>\n",
       "      <td>1OJpO4g7oebdd2s0l-vDhOUFQUtjnBKrY</td>\n",
       "      <td>Presentacion.mp4</td>\n",
       "      <td>mp4</td>\n",
       "      <td>jean pierre</td>\n",
       "      <td>False</td>\n",
       "      <td>True</td>\n",
       "      <td>03709418903600911746</td>\n",
       "      <td>2021-10-12T02:10:22.000Z</td>\n",
       "      <td>False</td>\n",
       "    </tr>\n",
       "  </tbody>\n",
       "</table>\n",
       "</div>"
      ],
      "text/plain": [
       "        emailAddress                                 id              nombre  \\\n",
       "0  yampi16@gmail.com  1uzDYLf5QAPEFbr7oCq6ETnttKGb5sWwK  1517020241702.jfif   \n",
       "1  yampi16@gmail.com  1nmtIpznBILhm9lvWeEDPIzcnrKrqlFyU      PGPMessage.pdf   \n",
       "2  yampi16@gmail.com  1z11Krpq7T-iKJ39SoizWHG33BegEdBjQ       Compilado.rar   \n",
       "3  yampi16@gmail.com  1qP63HpQBizimaSOwINdzjO_2bJTxcR-o          DeRoze.rar   \n",
       "4  yampi16@gmail.com  1OJpO4g7oebdd2s0l-vDhOUFQUtjnBKrY    Presentacion.mp4   \n",
       "\n",
       "  extension        owner compartido propietario               publico  \\\n",
       "0      jfif  jean pierre       True        True        anyoneWithLink   \n",
       "1       pdf  jean pierre       True        True        anyoneWithLink   \n",
       "2       rar  jean pierre      False        True  03709418903600911746   \n",
       "3       rar  jean pierre      False        True  03709418903600911746   \n",
       "4       mp4  jean pierre      False        True  03709418903600911746   \n",
       "\n",
       "               modifiedTime Modificado  \n",
       "0  2022-11-06T18:16:02.101Z       True  \n",
       "1  2022-11-06T17:34:35.796Z       True  \n",
       "2  2021-10-21T02:19:37.000Z      False  \n",
       "3  2021-10-12T02:11:57.000Z      False  \n",
       "4  2021-10-12T02:10:22.000Z      False  "
      ]
     },
     "execution_count": 116,
     "metadata": {},
     "output_type": "execute_result"
    }
   ],
   "source": [
    "old_df.head()"
   ]
  },
  {
   "cell_type": "code",
   "execution_count": 15,
   "id": "0a3ec6bc",
   "metadata": {},
   "outputs": [
    {
     "data": {
      "text/plain": [
       "956"
      ]
     },
     "execution_count": 15,
     "metadata": {},
     "output_type": "execute_result"
    }
   ],
   "source": [
    "old_df.to_sql(\"filespermissions\", connection, if_exists=\"replace\",index=False)\n"
   ]
  },
  {
   "cell_type": "code",
   "execution_count": null,
   "id": "f2108c41",
   "metadata": {},
   "outputs": [],
   "source": [
    "connection.commit()\n",
    "connection.close()"
   ]
  },
  {
   "cell_type": "markdown",
   "id": "18b8cf44",
   "metadata": {},
   "source": []
  }
 ],
 "metadata": {
  "kernelspec": {
   "display_name": "Python 3.11.0 64-bit",
   "language": "python",
   "name": "python3"
  },
  "language_info": {
   "codemirror_mode": {
    "name": "ipython",
    "version": 3
   },
   "file_extension": ".py",
   "mimetype": "text/x-python",
   "name": "python",
   "nbconvert_exporter": "python",
   "pygments_lexer": "ipython3",
   "version": "3.11.0"
  },
  "vscode": {
   "interpreter": {
    "hash": "5ffd7eb2cebf9ac436b5021ba01877e9cee6b03524e01bf8c8637d3e64111215"
   }
  }
 },
 "nbformat": 4,
 "nbformat_minor": 5
}
